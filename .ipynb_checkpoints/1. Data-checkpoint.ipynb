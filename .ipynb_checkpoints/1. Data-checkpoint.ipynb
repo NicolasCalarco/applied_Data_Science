{
 "cells": [
  {
   "cell_type": "markdown",
   "metadata": {},
   "source": [
    "<img src=https://upload.wikimedia.org/wikipedia/commons/2/2f/Space_Needle002.jpg>"
   ]
  },
  {
   "cell_type": "markdown",
   "metadata": {},
   "source": [
    "# 1. Introduccion"
   ]
  },
  {
   "cell_type": "markdown",
   "metadata": {},
   "source": [
    "Con los accidentes de tráfico que cobran más de 40.000 vidas por año en los EE. UU.,Es necesario investigar las causa que generar, poniendo el foco en buscar una solucionque podamos tomar para evitar accidentes o reducir su gravedad mediante el análisis de datos del Departamento de Transporte de Seattle.\n",
    "Seattle la ciudad más grande del estado de Washington, en el noroeste de los Estados Unidos de América. El área metropolitana de la ciudad comprende Seattle-Tacoma-Bellevue, es la 15.ª más poblada del país y la mayor del Noroeste del Pacífico. La ciudad está situada entre el lago Washington y la bahía conocida como Puget Sound, junto al océano Pacífico. Se encuentra a 155 kilómetros al sur de la frontera entre Estados Unidos y Canadá. Importante centro cultural, educativo y económico de la región, Seattle es sede del condado de King. En el censo estimado de 2018, la ciudad contaba con una población municipal de 744.955 habitantes, por lo que es la vigésimo cuarta ciudad más poblada de los Estados Unidos, y con un área metropolitana de 3.263.497 habitantes.\n",
    "\n",
    "Después de la recesión económica entre 2007 y 2009, Seattle ganó un promedio de casi 15.000 residentes por año durante los próximos 5 años. Cuando Amazon.com trasladó su sede a South Lake Union, comenzó un auge de la construcción, que resultó en la finalización de casi 10,000 apartamentos en Seattle en 2017 (más que cualquier año anterior y el doble que en 2016). Aunque el desempleo bajó del 9% al 3,6%, la ciudad se encontró a rebosar y tuvo el sexto peor tráfico en las horas pico.\n",
    "\n",
    "El clima de Seattle es suave, con una temperatura moderada por el mar, protegida de vientos y tormentas por las montañas. La ciudad de Seattle tiene una reputación por sus lluvias frecuentes, aunque \"la ciudad lluviosa\" solo recibe unos 970 mm de precipitación por año, menos que casi todas las ciudades mayores de la costa este de los Estados Unidos, como por ejemplo la ciudad de Nueva York, que recibe en promedio 1200 mm. Aunque llueve mucho más que en otros lugares del mundo como Madrid (430 mm) o Ciudad de México (830 mm). La fama mundial de las lluvias en Seattle es debido al hecho de que, al igual que en Londres, casi toda su precipitación cae en la forma de llovizna o lluvia ligera, dado que Seattle está en la sombra orográfica pluviométrica de los montes Olympic. O sea, aunque llueve con regularidad, no llueve muy fuerte. La mayoría de las lluvias caen de noviembre a marzo. Diciembre es el mes más lluvioso.\n",
    "\n",
    "En 2000, el estado de Washington adoptó \"Target Zero\", un plan destinado a poner fin a las muertes por accidentes de tránsito y las lesiones graves para 2030. El impulso por calles más seguras se expandió a \"Vision Zero\" de Seattle en 2015, después de colaborar con el estado y lograr una reducción del 28% en muertes y lesiones graves en Aurora Avenue North. Originalmente implementado en Suecia en la década de 1990, Vision Zero ha demostrado ser un éxito en toda Europa, y muchas ciudades de los EE. UU. Han firmado la idea de que incluso una sola muerte causada por estos accidentes es inaceptable y prevenible. Se espera que este estudio revele qué medidas, si las hay, podemos tomar como individuos y municipios para hacer que viajar en Seattle sea más seguro."
   ]
  },
  {
   "cell_type": "code",
   "execution_count": null,
   "metadata": {},
   "outputs": [],
   "source": []
  }
 ],
 "metadata": {
  "kernelspec": {
   "display_name": "Python 3",
   "language": "python",
   "name": "python3"
  },
  "language_info": {
   "codemirror_mode": {
    "name": "ipython",
    "version": 3
   },
   "file_extension": ".py",
   "mimetype": "text/x-python",
   "name": "python",
   "nbconvert_exporter": "python",
   "pygments_lexer": "ipython3",
   "version": "3.8.3"
  }
 },
 "nbformat": 4,
 "nbformat_minor": 4
}
